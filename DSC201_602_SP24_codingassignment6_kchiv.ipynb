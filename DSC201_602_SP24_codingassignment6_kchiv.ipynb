{
 "cells": [
  {
   "cell_type": "markdown",
   "metadata": {},
   "source": [
    "# Practice with Jupyter Notebooks and Basic Python Commands\n",
    "\n",
    "**Overview:** For this assignment, you will practice working with Jupyter notebooks, navigate documentation for Python packages and functions, and read in the data you have selected for your class project. \n",
    "\n",
    "**Directions:** Please work through the notebook, answering all the questions. \n",
    "When you are done, export to a PDF file. Upload it to Gradescope using the following naming convention for your file: \n",
    "\n",
    "DSC201_602_SP24_codingassignment4_unityID\n",
    "\n",
    "(For example, DSC201_602_SP24_codingassignment4_keporte2)\n",
    "\n",
    "As a reminder, you can export to a html file within VS Code by clicking on the three dots (\"...\") to the right of \"Outline\" in the panel at the top of your screen. Then print your html to a PDF. If you have trouble exporting in VS Code, please upload your file to Jupyter Hub (https://jhub.cos.ncsu.edu/) by clicking on the up error over the horizontal line (2 icons to the right of the blue plus button). Then you can export to a PDF by going to \"File\" then \"Save and Export Notebook As.\" \n",
    "\n",
    "**Points:** 25 points (plus 3 extra credit points)\n",
    "\n",
    "**Due:** February 14 at 11:59 PM "
   ]
  },
  {
   "cell_type": "markdown",
   "metadata": {},
   "source": [
    "## The `NumPy` package\n",
    "\n",
    "`NumPy` is a popular Python package used primarily for numerical calculations.  It is a powerful tool that handles large sets of numbers and mathematical operations efficiently. It's widely used in data science to process and analyze data. `NumPy`'s ability to perform complex calculations quickly makes it a foundational tool for other data science libraries. \n",
    "\n",
    "Uncomment and run the command below to install `NumPy`. Note you will need to retstart your kernel after you install it. In VS Code and on Jupyter Hub, there is a restart button in the top panel. You can comment out the installation command after you have successfully installed the package."
   ]
  },
  {
   "cell_type": "code",
   "execution_count": 1,
   "metadata": {},
   "outputs": [
    {
     "name": "stdout",
     "output_type": "stream",
     "text": [
      "Requirement already satisfied: numpy in c:\\users\\kcchi\\downloads\\dsc_201\\data\\.venv\\lib\\site-packages (1.26.4)\n",
      "Note: you may need to restart the kernel to use updated packages.\n"
     ]
    }
   ],
   "source": [
    "%pip install numpy"
   ]
  },
  {
   "cell_type": "markdown",
   "metadata": {},
   "source": [
    "Next, we import `numpy`. We shorten the imported name to np for better readability of code using NumPy. This is a widely adopted convention that makes your code more readable for everyone working on it. \n",
    "\n",
    "Then, `help(np)` brings up documentation. Go to the listed link of numpy.org and after opening it, click on \"Documentation.\" Find the answers to the following questions: \n",
    "\n",
    "**(1) Similar to how R's `dplyr` has somewhat different versions of the data structures in base R, Python's `numpy` has somewhat different versions of the data structures in standard Python. For example, an \"array\" is a central data structure in `numpy` which can be compared to a \"list\" in standard Python. What is at least one difference between a \"list\" in `numpy` and an \"array\" in standard Python? [Enter your answer below, 1 POINT]**\n",
    "\n",
    "**(2) In `numpy`, what is the relationship between a vector and array? What is relationship between a matrix and array? [Enter your answer below, 1 POINT]**"
   ]
  },
  {
   "cell_type": "code",
   "execution_count": 2,
   "metadata": {},
   "outputs": [],
   "source": [
    "import numpy as np\n",
    "# help(np)"
   ]
  },
  {
   "cell_type": "markdown",
   "metadata": {},
   "source": [
    "**(3) In the following code chunk, write a line a code to accomplish each task described in the comments. Refer to documentation at numpy.org to guide you; it provides lots of examples that you can copy and modify. [6 POINTS TOTAL, 1 POINT EACH]**"
   ]
  },
  {
   "cell_type": "code",
   "execution_count": 3,
   "metadata": {},
   "outputs": [
    {
     "name": "stdout",
     "output_type": "stream",
     "text": [
      "1\n",
      "10\n",
      "5.5\n",
      "[[ 1  2]\n",
      " [ 3  4]\n",
      " [ 5  6]\n",
      " [ 7  8]\n",
      " [ 9 10]]\n",
      "25\n"
     ]
    }
   ],
   "source": [
    "# Create a one-dimensional NumPy array of numbers from 1 to 10.\n",
    "numpy_1d = np.array([1, 2, 3, 4, 5, 6, 7, 8, 9, 10]) # numpy array because it's in brackets\n",
    "\n",
    "# TODO: Print the first element of the array you just created.\n",
    "print(numpy_1d[0])\n",
    "\n",
    "# TODO: Find the length of the array.\n",
    "print(len(numpy_1d))\n",
    "\n",
    "# TODO: Find and print the mean of your array\n",
    "print(sum(numpy_1d)/len(numpy_1d))\n",
    "\n",
    "# TODO: Reshape your array into a matrix with 2 columns and 5 rows, assign this to a new object and print it (2 lines of code)\n",
    "reshaped_numpy_1d = numpy_1d.reshape((5, 2))\n",
    "print(reshaped_numpy_1d)\n",
    "\n",
    "# TODO: Find and print the sum of the first column of your matrix\n",
    "print(reshaped_numpy_1d.sum(axis = 0)[0]) \n",
    "\n",
    "# axis = 0 is summing for columns, axis = 1 is summing for rows; then we take the first value of that array [25, not 30]"
   ]
  },
  {
   "cell_type": "markdown",
   "metadata": {},
   "source": [
    "**(4) A valuable way to expand your coding skills is to run example code - from documentation, tutorials, other coders - and see what it accomplishes. Using the documentation at numpy.org, create a code chunk and test out three NumPy commands that either operate on the array or matix that you created above. After running the commands, use comments to explain what the command does and anything you think is important to remember about how the command is used, or something you do not understand. (3 POINTS FOR COMPLETION)**"
   ]
  },
  {
   "cell_type": "code",
   "execution_count": 4,
   "metadata": {},
   "outputs": [
    {
     "name": "stdout",
     "output_type": "stream",
     "text": [
      "2520\n",
      "1\n",
      "5.5\n"
     ]
    }
   ],
   "source": [
    "numpy_1d = np.array([1, 2, 3, 4, 5, 6, 7, 8, 9, 10])\n",
    "\n",
    "LCM_reshaped_numpy_1d = np.lcm.reduce(numpy_1d) # first function, least common multiple\n",
    "print(LCM_reshaped_numpy_1d) # takes 1d array -> 0d array with no brackets (just numbers)\n",
    "\n",
    "GCD_reshaped_numpy_1d = np.gcd.reduce(numpy_1d) # second function, greatest common denom\n",
    "print(GCD_reshaped_numpy_1d) # takes 1d array -> 0d array with no brackets (just numbers)\n",
    "\n",
    "mean_reshaped_numpy1d = np.mean(numpy_1d) # third function, mean\n",
    "print(mean_reshaped_numpy1d) # takes 1d array -> 0d array with no brackets (just numbers)"
   ]
  },
  {
   "cell_type": "markdown",
   "metadata": {},
   "source": [
    "## Getting familiar with `pandas`\n"
   ]
  },
  {
   "cell_type": "markdown",
   "metadata": {},
   "source": [
    "While NumPy is valuable for computations on arrays and matrices, we will work more with Pandas (which is built on top of NumPy), which is valuable for more complex data manipulation tasks on structured data. You should have already installed pandas when running Python-Notebook1. If not, uncomment and run the first line in the chunk below. In either case, run the import command below to load the Pandas library into your environment. "
   ]
  },
  {
   "cell_type": "code",
   "execution_count": 5,
   "metadata": {},
   "outputs": [
    {
     "name": "stdout",
     "output_type": "stream",
     "text": [
      "Requirement already satisfied: pandas in c:\\users\\kcchi\\downloads\\dsc_201\\data\\.venv\\lib\\site-packages (2.2.0)Note: you may need to restart the kernel to use updated packages.\n",
      "\n",
      "Requirement already satisfied: numpy<2,>=1.26.0 in c:\\users\\kcchi\\downloads\\dsc_201\\data\\.venv\\lib\\site-packages (from pandas) (1.26.4)\n",
      "Requirement already satisfied: python-dateutil>=2.8.2 in c:\\users\\kcchi\\downloads\\dsc_201\\data\\.venv\\lib\\site-packages (from pandas) (2.8.2)\n",
      "Requirement already satisfied: pytz>=2020.1 in c:\\users\\kcchi\\downloads\\dsc_201\\data\\.venv\\lib\\site-packages (from pandas) (2024.1)\n",
      "Requirement already satisfied: tzdata>=2022.7 in c:\\users\\kcchi\\downloads\\dsc_201\\data\\.venv\\lib\\site-packages (from pandas) (2023.4)\n",
      "Requirement already satisfied: six>=1.5 in c:\\users\\kcchi\\downloads\\dsc_201\\data\\.venv\\lib\\site-packages (from python-dateutil>=2.8.2->pandas) (1.16.0)\n"
     ]
    },
    {
     "name": "stderr",
     "output_type": "stream",
     "text": [
      "C:\\Users\\kcchi\\AppData\\Local\\Temp\\ipykernel_8840\\4121680458.py:4: DeprecationWarning: \n",
      "Pyarrow will become a required dependency of pandas in the next major release of pandas (pandas 3.0),\n",
      "(to allow more performant data types, such as the Arrow string type, and better interoperability with other libraries)\n",
      "but was not found to be installed on your system.\n",
      "If this would cause problems for you,\n",
      "please provide us feedback at https://github.com/pandas-dev/pandas/issues/54466\n",
      "        \n",
      "  import pandas as pd\n"
     ]
    }
   ],
   "source": [
    "# %pip install pandas\n",
    "\n",
    "# Import the pandas library and assign the alias \"pd\"\n",
    "import pandas as pd \n"
   ]
  },
  {
   "cell_type": "markdown",
   "metadata": {},
   "source": [
    "#### Reviewing documentation\n",
    "\n",
    "For `pandas` documentation, check out: https://pandas.pydata.org/docs/ (which is much more user friendly than what you get with help(pd).) Review the \"package overview\" and answer the following questions:\n",
    "\n",
    "**(5) What are at least two things you can do with the `pandas` package that accomplish similar (or identical) tasks you learned with `dplyr` in R? [1 POINT]**\n",
    "\n",
    "- Grouping/Aggregating -> dplyr: group_by() %>% summarize() + Pandas: df.groupby().agg\n",
    "- Selecting Columns -> dplyr: select() + Pandas: df[['col1']]\n",
    "\n",
    "**(6) What are the two main data structures in `pandas` and what are the parallel data structures in base R or `dplyr`? [1 POINT]**\n",
    "\n",
    "- The main data structure in `pandas` are series (similar to vectors) and data frames. Similarly in base R, there are vectors (similar to series) and data frames. In dplyr, there are tibbles (a user-friendly version of data frames) and data frames.\n"
   ]
  },
  {
   "cell_type": "markdown",
   "metadata": {},
   "source": [
    "**(7) Within this Pandas website, go to https://pandas.pydata.org/docs/getting_started/comparison/comparison_with_r.html#quick-reference. Use this \"quick reference\" to complete the following. [4 POINTS TOTAL, 1 POINT EACH]**\n",
    "\n",
    "Note: The functions are preceded by `pandas` and a \".\" or more frequently and preferably, the alias you used when you imported it (pd). So \"pd.functionname.\"\n"
   ]
  },
  {
   "cell_type": "code",
   "execution_count": 6,
   "metadata": {},
   "outputs": [
    {
     "name": "stdout",
     "output_type": "stream",
     "text": [
      "   ColA  ColB   ColC\n",
      "0     1   0.1   True\n",
      "1     2   0.2  False\n",
      "2     3   0.3   True\n",
      "Number of Rows: 3\n",
      "Number of Columns: 3\n",
      "        ColA  ColB  ColC\n",
      "count    3.0  3.00     3\n",
      "unique   NaN   NaN     2\n",
      "top      NaN   NaN  True\n",
      "freq     NaN   NaN     2\n",
      "mean     2.0  0.20   NaN\n",
      "std      1.0  0.10   NaN\n",
      "min      1.0  0.10   NaN\n",
      "25%      1.5  0.15   NaN\n",
      "50%      2.0  0.20   NaN\n",
      "75%      2.5  0.25   NaN\n",
      "max      3.0  0.30   NaN\n",
      "   ColA  ColB\n",
      "0     1   0.1\n",
      "1     2   0.2\n",
      "2     3   0.3\n",
      "   ColA  ColB  ColC\n",
      "0     1   0.1  True\n"
     ]
    }
   ],
   "source": [
    "# First, I will create a toy data frame for you. \n",
    "df = pd.DataFrame({\n",
    "    'ColA': [1, 2, 3],\n",
    "    'ColB': [0.1, 0.2, 0.3],\n",
    "    'ColC': [True, False, True]\n",
    "})\n",
    "print(df)\n",
    "\n",
    "# TODO: Find the dimensions of the data frame df\n",
    "num_rows, num_cols = df.shape\n",
    "\n",
    "print(f\"Number of Rows: {num_rows}\")\n",
    "print(f\"Number of Columns: {num_cols}\")\n",
    "\n",
    "# TODO: Summarize all columns in the data frame df (Hint: for this one the () will be empty and you need to include \"print()\")\n",
    "summary_stats = df.describe(include=\"all\")\n",
    "print(summary_stats)\n",
    "\n",
    "# TODO: Create a reduced data frame (a new object) that is just the first two columns\n",
    "reshaped_summary_stats = df.iloc[: ,0:2] #: everything (for rows)\n",
    "print(reshaped_summary_stats)\n",
    "\n",
    "# TODO: Run another command of your choice and add a comment describing what it does. Be sure to print the results. \n",
    "print(df.head(1)) # this code prints the first row of the data frame"
   ]
  },
  {
   "cell_type": "markdown",
   "metadata": {},
   "source": [
    "For specific functions within a package, it can be quick and helpfl to pull up documentation from inside your Jupyter notebook. Using the example of `read_csv`:\n",
    " \n",
    " - help(pd.read_csv)\n",
    "\n",
    " This is a standard Python function that invokes the built-in help system. When you use help(pd.read_csv), it displays the documentation for the read_csv function in a more detailed, text-based format. This command is versatile and can be used in any Python environment, including a standard Python shell, scripts, and Jupyter notebooks. The output is typically displayed in the same area where the command was executed.\n",
    "\n",
    "- pd.read_csv?\n",
    "\n",
    "  This syntax is specific to Jupyter notebooks. \n",
    "  When you use pd.read_csv? in a Jupyter notebook, it displays the documentation in a separate pane or window at the bottom of the notebook interface. This pane can be resized, scrolled, or closed. The documentation displayed is generally more concise and is formatted for quick readability, focusing on the most essential aspects of the function.\n",
    "  This method is more interactive and user-friendly, especially in a Jupyter notebook environment, but it is not available in standard Python shells or scripts.\n",
    "\n",
    "**(8) Give these a try below, and provide 2 observations for each: [Enter responses below within this markdown chunk, 4 POINTS]**"
   ]
  },
  {
   "cell_type": "code",
   "execution_count": 7,
   "metadata": {},
   "outputs": [],
   "source": [
    "# TODO: Uncomment the line below to test. \n",
    "# help(pd.read_csv) # This line of code tells you what the function in parantheses does. It also gives an example\n",
    "\n",
    "# TODO: Uncomment the line below to test. \n",
    "# pd.read_csv? # This line of code will tell you all possible functionalities for the read_csv function. It also gives you an example of using the code.\n"
   ]
  },
  {
   "cell_type": "markdown",
   "metadata": {},
   "source": [
    "**(9) Now, let's use `read_csv` to read in the datasests you have selected for your project. I am assuming you have .csv files. If not, then write a .csv file in R so that you can read it in here. After reading in your file, carry out the tasks described in the comments. [4 POINTS TOTAL, 1 POINT EACH]**"
   ]
  },
  {
   "cell_type": "code",
   "execution_count": 15,
   "metadata": {},
   "outputs": [
    {
     "name": "stdout",
     "output_type": "stream",
     "text": [
      "Number of Rows: 1129\n",
      "Number of Columns: 14\n"
     ]
    },
    {
     "name": "stdout",
     "output_type": "stream",
     "text": [
      "         Unnamed: 0  respondent_id  gender    age   household_income  \\\n",
      "count   1129.000000   1.129000e+03    1037   1037                836   \n",
      "unique          NaN            NaN       2      4                  5   \n",
      "top             NaN            NaN  Female  45-60  $50,000 - $99,999   \n",
      "freq            NaN            NaN     548    290                290   \n",
      "mean     565.000000   3.290127e+09     NaN    NaN                NaN   \n",
      "std      326.058533   1.072966e+06     NaN    NaN                NaN   \n",
      "min        1.000000   3.288376e+09     NaN    NaN                NaN   \n",
      "25%      283.000000   3.289470e+09     NaN    NaN                NaN   \n",
      "50%      565.000000   3.290114e+09     NaN    NaN                NaN   \n",
      "75%      847.000000   3.290777e+09     NaN    NaN                NaN   \n",
      "max     1129.000000   3.292954e+09     NaN    NaN                NaN   \n",
      "\n",
      "              education location  \\\n",
      "count              1026     1027   \n",
      "unique                5        9   \n",
      "top     Bachelor degree  Pacific   \n",
      "freq                344      180   \n",
      "mean                NaN      NaN   \n",
      "std                 NaN      NaN   \n",
      "min                 NaN      NaN   \n",
      "25%                 NaN      NaN   \n",
      "50%                 NaN      NaN   \n",
      "75%                 NaN      NaN   \n",
      "max                 NaN      NaN   \n",
      "\n",
      "                                     more_grammar_correct heard_oxford_comma  \\\n",
      "count                                                1129               1099   \n",
      "unique                                                  2                  2   \n",
      "top     It's important for a person to be honest, kind...               True   \n",
      "freq                                                  641                655   \n",
      "mean                                                  NaN                NaN   \n",
      "std                                                   NaN                NaN   \n",
      "min                                                   NaN                NaN   \n",
      "25%                                                   NaN                NaN   \n",
      "50%                                                   NaN                NaN   \n",
      "75%                                                   NaN                NaN   \n",
      "max                                                   NaN                NaN   \n",
      "\n",
      "       care_oxford_comma                                    write_following  \\\n",
      "count               1099                                               1093   \n",
      "unique                 4                                                  2   \n",
      "top                 Some  Some experts say it's important to drink milk,...   \n",
      "freq                 414                                                865   \n",
      "mean                 NaN                                                NaN   \n",
      "std                  NaN                                                NaN   \n",
      "min                  NaN                                                NaN   \n",
      "25%                  NaN                                                NaN   \n",
      "50%                  NaN                                                NaN   \n",
      "75%                  NaN                                                NaN   \n",
      "max                  NaN                                                NaN   \n",
      "\n",
      "       data_singular_plural care_data care_proper_grammar  \n",
      "count                  1091      1091                1059  \n",
      "unique                    2         4                   5  \n",
      "top                   False  Not much      Very important  \n",
      "freq                    547       403                 688  \n",
      "mean                    NaN       NaN                 NaN  \n",
      "std                     NaN       NaN                 NaN  \n",
      "min                     NaN       NaN                 NaN  \n",
      "25%                     NaN       NaN                 NaN  \n",
      "50%                     NaN       NaN                 NaN  \n",
      "75%                     NaN       NaN                 NaN  \n",
      "max                     NaN       NaN                 NaN  \n"
     ]
    },
    {
     "data": {
      "text/html": [
       "<div>\n",
       "<style scoped>\n",
       "    .dataframe tbody tr th:only-of-type {\n",
       "        vertical-align: middle;\n",
       "    }\n",
       "\n",
       "    .dataframe tbody tr th {\n",
       "        vertical-align: top;\n",
       "    }\n",
       "\n",
       "    .dataframe thead th {\n",
       "        text-align: right;\n",
       "    }\n",
       "</style>\n",
       "<table border=\"1\" class=\"dataframe\">\n",
       "  <thead>\n",
       "    <tr style=\"text-align: right;\">\n",
       "      <th></th>\n",
       "      <th>Unnamed: 0</th>\n",
       "      <th>respondent_id</th>\n",
       "      <th>gender</th>\n",
       "      <th>age</th>\n",
       "      <th>household_income</th>\n",
       "    </tr>\n",
       "  </thead>\n",
       "  <tbody>\n",
       "    <tr>\n",
       "      <th>count</th>\n",
       "      <td>1129.000000</td>\n",
       "      <td>1.129000e+03</td>\n",
       "      <td>1037</td>\n",
       "      <td>1037</td>\n",
       "      <td>836</td>\n",
       "    </tr>\n",
       "    <tr>\n",
       "      <th>unique</th>\n",
       "      <td>NaN</td>\n",
       "      <td>NaN</td>\n",
       "      <td>2</td>\n",
       "      <td>4</td>\n",
       "      <td>5</td>\n",
       "    </tr>\n",
       "    <tr>\n",
       "      <th>top</th>\n",
       "      <td>NaN</td>\n",
       "      <td>NaN</td>\n",
       "      <td>Female</td>\n",
       "      <td>45-60</td>\n",
       "      <td>$50,000 - $99,999</td>\n",
       "    </tr>\n",
       "    <tr>\n",
       "      <th>freq</th>\n",
       "      <td>NaN</td>\n",
       "      <td>NaN</td>\n",
       "      <td>548</td>\n",
       "      <td>290</td>\n",
       "      <td>290</td>\n",
       "    </tr>\n",
       "    <tr>\n",
       "      <th>mean</th>\n",
       "      <td>565.000000</td>\n",
       "      <td>3.290127e+09</td>\n",
       "      <td>NaN</td>\n",
       "      <td>NaN</td>\n",
       "      <td>NaN</td>\n",
       "    </tr>\n",
       "    <tr>\n",
       "      <th>std</th>\n",
       "      <td>326.058533</td>\n",
       "      <td>1.072966e+06</td>\n",
       "      <td>NaN</td>\n",
       "      <td>NaN</td>\n",
       "      <td>NaN</td>\n",
       "    </tr>\n",
       "    <tr>\n",
       "      <th>min</th>\n",
       "      <td>1.000000</td>\n",
       "      <td>3.288376e+09</td>\n",
       "      <td>NaN</td>\n",
       "      <td>NaN</td>\n",
       "      <td>NaN</td>\n",
       "    </tr>\n",
       "    <tr>\n",
       "      <th>25%</th>\n",
       "      <td>283.000000</td>\n",
       "      <td>3.289470e+09</td>\n",
       "      <td>NaN</td>\n",
       "      <td>NaN</td>\n",
       "      <td>NaN</td>\n",
       "    </tr>\n",
       "    <tr>\n",
       "      <th>50%</th>\n",
       "      <td>565.000000</td>\n",
       "      <td>3.290114e+09</td>\n",
       "      <td>NaN</td>\n",
       "      <td>NaN</td>\n",
       "      <td>NaN</td>\n",
       "    </tr>\n",
       "    <tr>\n",
       "      <th>75%</th>\n",
       "      <td>847.000000</td>\n",
       "      <td>3.290777e+09</td>\n",
       "      <td>NaN</td>\n",
       "      <td>NaN</td>\n",
       "      <td>NaN</td>\n",
       "    </tr>\n",
       "  </tbody>\n",
       "</table>\n",
       "</div>"
      ],
      "text/plain": [
       "         Unnamed: 0  respondent_id  gender    age   household_income\n",
       "count   1129.000000   1.129000e+03    1037   1037                836\n",
       "unique          NaN            NaN       2      4                  5\n",
       "top             NaN            NaN  Female  45-60  $50,000 - $99,999\n",
       "freq            NaN            NaN     548    290                290\n",
       "mean     565.000000   3.290127e+09     NaN    NaN                NaN\n",
       "std      326.058533   1.072966e+06     NaN    NaN                NaN\n",
       "min        1.000000   3.288376e+09     NaN    NaN                NaN\n",
       "25%      283.000000   3.289470e+09     NaN    NaN                NaN\n",
       "50%      565.000000   3.290114e+09     NaN    NaN                NaN\n",
       "75%      847.000000   3.290777e+09     NaN    NaN                NaN"
      ]
     },
     "execution_count": 15,
     "metadata": {},
     "output_type": "execute_result"
    }
   ],
   "source": [
    "# Read in the file by editing the example below\n",
    "# projectData = pd.read_csv('data/colleges.csv')\n",
    "projectData = pd.read_csv('data/comma_survey.csv') \n",
    "\n",
    "# TODO: Display the dimensions of your data frame projectData\n",
    "num_rows, num_cols = projectData.shape\n",
    "\n",
    "print(f\"Number of Rows: {num_rows}\")\n",
    "print(f\"Number of Columns: {num_cols}\")\n",
    "\n",
    "# TODO: Summarize (describe) the columns in projectData\n",
    "summary_projData = projectData.describe(include=\"all\")\n",
    "print(summary_projData)\n",
    "\n",
    "# TODO: Display the first 10 rows of ProjectData and at the same time, 5 columns of your choice\n",
    "summary_projData.iloc[:10,:5] # . is %>% in Python + :10 = first 10 rows, :5 = first five columns\n"
   ]
  },
  {
   "cell_type": "markdown",
   "metadata": {},
   "source": [
    "**Extra Credit:**\n",
    "\n",
    "**(1) Create a new object to hold a modified version of `projectData`. The modified version should (a) rename one variable, (b) drop one variable and (c) create one new variable that is a computation based on another variable in your data (e.g., it sums to variables together or it multiplies a variable by a number, etc. ). [1 POINT]**\n",
    "\n",
    "**(2) Describe what you would do to check that you modifications worked. How would you make it easy to do the checks (rather than viewing lots of information you don't need). [1 POINT]**\n",
    "- I can use df.head() and df.iloc() to either see selects rows/columns of data, or to slice the data according to different specifications.\n",
    "\n",
    "**(3) Write code to implement your check [1 POINT]**\n"
   ]
  },
  {
   "cell_type": "code",
   "execution_count": 17,
   "metadata": {},
   "outputs": [
    {
     "name": "stdout",
     "output_type": "stream",
     "text": [
      "      respondent id  gender    age     household income  \\\n",
      "0        3292953864    Male  30-44    $50,000 - $99,999   \n",
      "1        3292950324    Male  30-44    $50,000 - $99,999   \n",
      "2        3292942669    Male  30-44                  NaN   \n",
      "3        3292932796    Male  18-29                  NaN   \n",
      "4        3292932522     NaN    NaN                  NaN   \n",
      "...             ...     ...    ...                  ...   \n",
      "1124     3288387618  Female  18-29  $100,000 - $149,999   \n",
      "1125     3288387379  Female  30-44    $50,000 - $99,999   \n",
      "1126     3288382543  Female  30-44    $50,000 - $99,999   \n",
      "1127     3288379152  Female  45-60    $50,000 - $99,999   \n",
      "1128     3288375700    Male  18-29    $25,000 - $49,999   \n",
      "\n",
      "                             education            location  \\\n",
      "0                      Bachelor degree      South Atlantic   \n",
      "1                      Graduate degree            Mountain   \n",
      "2                                  NaN  East North Central   \n",
      "3         Less than high school degree     Middle Atlantic   \n",
      "4                                  NaN                 NaN   \n",
      "...                                ...                 ...   \n",
      "1124  Some college or Associate degree      South Atlantic   \n",
      "1125  Some college or Associate degree             Pacific   \n",
      "1126                   Graduate degree     Middle Atlantic   \n",
      "1127                   Graduate degree  East South Central   \n",
      "1128                   Bachelor degree            Mountain   \n",
      "\n",
      "                                   more_grammar_correct heard_oxford_comma  \\\n",
      "0     It's important for a person to be honest, kind...               True   \n",
      "1     It's important for a person to be honest, kind...              False   \n",
      "2     It's important for a person to be honest, kind...               True   \n",
      "3     It's important for a person to be honest, kind...               True   \n",
      "4     It's important for a person to be honest, kind...              False   \n",
      "...                                                 ...                ...   \n",
      "1124  It's important for a person to be honest, kind...               True   \n",
      "1125  It's important for a person to be honest, kind...              False   \n",
      "1126  It's important for a person to be honest, kind...               True   \n",
      "1127  It's important for a person to be honest, kind...               True   \n",
      "1128  It's important for a person to be honest, kind...               True   \n",
      "\n",
      "     care_oxford_comma                                    write_following  \\\n",
      "0                 Some  Some experts say it's important to drink milk,...   \n",
      "1             Not much  Some experts say it's important to drink milk,...   \n",
      "2                 Some  Some experts say it's important to drink milk,...   \n",
      "3                 Some  Some experts say it's important to drink milk,...   \n",
      "4             Not much  Some experts say it's important to drink milk,...   \n",
      "...                ...                                                ...   \n",
      "1124             A lot  Some experts say it's important to drink milk,...   \n",
      "1125              Some  Some experts say it's important to drink milk,...   \n",
      "1126              Some  Some experts say it's important to drink milk,...   \n",
      "1127             A lot  Some experts say it's important to drink milk,...   \n",
      "1128             A lot  Some experts say it's important to drink milk,...   \n",
      "\n",
      "     data_singular_plural   care_data   care_proper_grammar     genderAge  \n",
      "0                   False    Not much    Somewhat important    Male 30-44  \n",
      "1                   False    Not much  Somewhat unimportant    Male 30-44  \n",
      "2                    True  Not at all        Very important    Male 30-44  \n",
      "3                   False        Some    Somewhat important    Male 18-29  \n",
      "4                   False    Not much                   NaN           NaN  \n",
      "...                   ...         ...                   ...           ...  \n",
      "1124                False       A lot        Very important  Female 18-29  \n",
      "1125                False        Some        Very important  Female 30-44  \n",
      "1126                False    Not much    Somewhat important  Female 30-44  \n",
      "1127                 True    Not much        Very important  Female 45-60  \n",
      "1128                 True        Some    Somewhat important    Male 18-29  \n",
      "\n",
      "[1129 rows x 14 columns]\n",
      "   respondent id gender    age   household income  \\\n",
      "0     3292953864   Male  30-44  $50,000 - $99,999   \n",
      "1     3292950324   Male  30-44  $50,000 - $99,999   \n",
      "2     3292942669   Male  30-44                NaN   \n",
      "3     3292932796   Male  18-29                NaN   \n",
      "4     3292932522    NaN    NaN                NaN   \n",
      "\n",
      "                      education            location  \\\n",
      "0               Bachelor degree      South Atlantic   \n",
      "1               Graduate degree            Mountain   \n",
      "2                           NaN  East North Central   \n",
      "3  Less than high school degree     Middle Atlantic   \n",
      "4                           NaN                 NaN   \n",
      "\n",
      "                                more_grammar_correct heard_oxford_comma  \\\n",
      "0  It's important for a person to be honest, kind...               True   \n",
      "1  It's important for a person to be honest, kind...              False   \n",
      "2  It's important for a person to be honest, kind...               True   \n",
      "3  It's important for a person to be honest, kind...               True   \n",
      "4  It's important for a person to be honest, kind...              False   \n",
      "\n",
      "  care_oxford_comma                                    write_following  \\\n",
      "0              Some  Some experts say it's important to drink milk,...   \n",
      "1          Not much  Some experts say it's important to drink milk,...   \n",
      "2              Some  Some experts say it's important to drink milk,...   \n",
      "3              Some  Some experts say it's important to drink milk,...   \n",
      "4          Not much  Some experts say it's important to drink milk,...   \n",
      "\n",
      "  data_singular_plural   care_data   care_proper_grammar   genderAge  \n",
      "0                False    Not much    Somewhat important  Male 30-44  \n",
      "1                False    Not much  Somewhat unimportant  Male 30-44  \n",
      "2                 True  Not at all        Very important  Male 30-44  \n",
      "3                False        Some    Somewhat important  Male 18-29  \n",
      "4                False    Not much                   NaN         NaN  \n"
     ]
    }
   ],
   "source": [
    "# PART ONE\n",
    "mod_projectData = projectData.rename(columns=\n",
    "                                     {'household_income': 'household income',\n",
    "                                    'respondent_id': 'respondent id'}).drop(columns=['Unnamed: 0']).assign(genderAge=projectData['gender']+\n",
    "                                    \" \" # adds a space for the phrase \"gender age\"\n",
    "                                    +projectData['age'])\n",
    "print(mod_projectData)\n",
    "\n",
    "# PART THREE\n",
    "print(mod_projectData.head(5))\n"
   ]
  }
 ],
 "metadata": {
  "kernelspec": {
   "display_name": "IntroRPython",
   "language": "python",
   "name": "python3"
  },
  "language_info": {
   "codemirror_mode": {
    "name": "ipython",
    "version": 3
   },
   "file_extension": ".py",
   "mimetype": "text/x-python",
   "name": "python",
   "nbconvert_exporter": "python",
   "pygments_lexer": "ipython3",
   "version": "3.12.2"
  },
  "orig_nbformat": 4
 },
 "nbformat": 4,
 "nbformat_minor": 2
}
